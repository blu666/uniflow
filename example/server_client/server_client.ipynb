{
 "cells": [
  {
   "cell_type": "code",
   "execution_count": 11,
   "metadata": {},
   "outputs": [],
   "source": [
    "%reload_ext autoreload\n",
    "%autoreload 2\n",
    "\n",
    "import sys\n",
    "\n",
    "sys.path.append(\".\")\n",
    "sys.path.append(\"..\")\n",
    "sys.path.append(\"../..\")"
   ]
  },
  {
   "cell_type": "code",
   "execution_count": 21,
   "metadata": {},
   "outputs": [],
   "source": [
    "from uniflow.flow.client import TransformClient\n",
    "from uniflow.flow.config import TransformCopyConfig\n",
    "from uniflow.flow.flow_factory import FlowFactory\n",
    "from uniflow.viz import Viz"
   ]
  },
  {
   "cell_type": "code",
   "execution_count": 22,
   "metadata": {},
   "outputs": [
    {
     "data": {
      "text/plain": [
       "{'extract': ['ExtractImageFlow',\n",
       "  'ExtractIpynbFlow',\n",
       "  'ExtractMarkdownFlow',\n",
       "  'ExtractPDFFlow',\n",
       "  'ExtractTxtFlow',\n",
       "  'ExtractS3TxtFlow'],\n",
       " 'transform': ['TransformAzureOpenAIFlow',\n",
       "  'TransformCopyFlow',\n",
       "  'TransformHuggingFaceFlow',\n",
       "  'TransformLMQGFlow',\n",
       "  'TransformOpenAIFlow',\n",
       "  'ExpandReduceFlow'],\n",
       " 'rater': ['RaterFlow']}"
      ]
     },
     "execution_count": 22,
     "metadata": {},
     "output_type": "execute_result"
    }
   ],
   "source": [
    "FlowFactory.list()"
   ]
  },
  {
   "cell_type": "code",
   "execution_count": 23,
   "metadata": {},
   "outputs": [
    {
     "name": "stderr",
     "output_type": "stream",
     "text": [
      "[autoreload of uniflow.op.basic.expand_op failed: Traceback (most recent call last):\n",
      "  File \"/opt/anaconda3/envs/uniflow/lib/python3.11/site-packages/IPython/extensions/autoreload.py\", line 276, in check\n",
      "    superreload(m, reload, self.old_objects)\n",
      "  File \"/opt/anaconda3/envs/uniflow/lib/python3.11/site-packages/IPython/extensions/autoreload.py\", line 500, in superreload\n",
      "    update_generic(old_obj, new_obj)\n",
      "  File \"/opt/anaconda3/envs/uniflow/lib/python3.11/site-packages/IPython/extensions/autoreload.py\", line 397, in update_generic\n",
      "    update(a, b)\n",
      "  File \"/opt/anaconda3/envs/uniflow/lib/python3.11/site-packages/IPython/extensions/autoreload.py\", line 349, in update_class\n",
      "    if update_generic(old_obj, new_obj):\n",
      "       ^^^^^^^^^^^^^^^^^^^^^^^^^^^^^^^^\n",
      "  File \"/opt/anaconda3/envs/uniflow/lib/python3.11/site-packages/IPython/extensions/autoreload.py\", line 397, in update_generic\n",
      "    update(a, b)\n",
      "  File \"/opt/anaconda3/envs/uniflow/lib/python3.11/site-packages/IPython/extensions/autoreload.py\", line 309, in update_function\n",
      "    setattr(old, name, getattr(new, name))\n",
      "ValueError: __init__() requires a code object with 1 free vars, not 0\n",
      "]\n",
      "[autoreload of uniflow.op.basic.reduce_op failed: Traceback (most recent call last):\n",
      "  File \"/opt/anaconda3/envs/uniflow/lib/python3.11/site-packages/IPython/extensions/autoreload.py\", line 276, in check\n",
      "    superreload(m, reload, self.old_objects)\n",
      "  File \"/opt/anaconda3/envs/uniflow/lib/python3.11/site-packages/IPython/extensions/autoreload.py\", line 500, in superreload\n",
      "    update_generic(old_obj, new_obj)\n",
      "  File \"/opt/anaconda3/envs/uniflow/lib/python3.11/site-packages/IPython/extensions/autoreload.py\", line 397, in update_generic\n",
      "    update(a, b)\n",
      "  File \"/opt/anaconda3/envs/uniflow/lib/python3.11/site-packages/IPython/extensions/autoreload.py\", line 349, in update_class\n",
      "    if update_generic(old_obj, new_obj):\n",
      "       ^^^^^^^^^^^^^^^^^^^^^^^^^^^^^^^^\n",
      "  File \"/opt/anaconda3/envs/uniflow/lib/python3.11/site-packages/IPython/extensions/autoreload.py\", line 397, in update_generic\n",
      "    update(a, b)\n",
      "  File \"/opt/anaconda3/envs/uniflow/lib/python3.11/site-packages/IPython/extensions/autoreload.py\", line 309, in update_function\n",
      "    setattr(old, name, getattr(new, name))\n",
      "ValueError: __init__() requires a code object with 1 free vars, not 0\n",
      "]\n",
      "100%|██████████| 4/4 [00:00<00:00, 44620.26it/s]\n"
     ]
    }
   ],
   "source": [
    "client = TransformClient(TransformCopyConfig())\n",
    "input = [{\"a\": 1, \"b\": 2}, {\"c\": 3, \"d\": 4}, {\"e\": 5, \"f\": 6}, {\"g\": 7, \"h\": 8}]\n",
    "output = client.run(input)"
   ]
  },
  {
   "cell_type": "code",
   "execution_count": 5,
   "metadata": {},
   "outputs": [
    {
     "data": {
      "text/plain": [
       "[{'output': [[{'a': 1, 'b': 2}]], 'root': <uniflow.node.Node at 0x11291a9d0>},\n",
       " {'output': [[{'c': 3, 'd': 4}]], 'root': <uniflow.node.Node at 0x11291b610>},\n",
       " {'output': [[{'e': 5, 'f': 6}]], 'root': <uniflow.node.Node at 0x11291ac90>},\n",
       " {'output': [[{'g': 7, 'h': 8}]], 'root': <uniflow.node.Node at 0x11291af50>}]"
      ]
     },
     "execution_count": 5,
     "metadata": {},
     "output_type": "execute_result"
    }
   ],
   "source": [
    "output"
   ]
  },
  {
   "cell_type": "code",
   "execution_count": 6,
   "metadata": {},
   "outputs": [],
   "source": [
    "graph = Viz.to_digraph(output[0][\"root\"])"
   ]
  },
  {
   "cell_type": "code",
   "execution_count": 7,
   "metadata": {},
   "outputs": [
    {
     "data": {
      "image/svg+xml": [
       "<?xml version=\"1.0\" encoding=\"UTF-8\" standalone=\"no\"?>\n",
       "<!DOCTYPE svg PUBLIC \"-//W3C//DTD SVG 1.1//EN\"\n",
       " \"http://www.w3.org/Graphics/SVG/1.1/DTD/svg11.dtd\">\n",
       "<!-- Generated by graphviz version 7.0.4 (20221203.1631)\n",
       " -->\n",
       "<!-- Pages: 1 -->\n",
       "<svg width=\"174pt\" height=\"116pt\"\n",
       " viewBox=\"0.00 0.00 174.39 116.00\" xmlns=\"http://www.w3.org/2000/svg\" xmlns:xlink=\"http://www.w3.org/1999/xlink\">\n",
       "<g id=\"graph0\" class=\"graph\" transform=\"scale(1 1) rotate(0) translate(4 112)\">\n",
       "<polygon fill=\"white\" stroke=\"none\" points=\"-4,4 -4,-112 170.39,-112 170.39,4 -4,4\"/>\n",
       "<!-- root -->\n",
       "<g id=\"node1\" class=\"node\">\n",
       "<title>root</title>\n",
       "<ellipse fill=\"none\" stroke=\"black\" cx=\"83.19\" cy=\"-90\" rx=\"27\" ry=\"18\"/>\n",
       "<text text-anchor=\"middle\" x=\"83.19\" y=\"-86.3\" font-family=\"Times,serif\" font-size=\"14.00\">root</text>\n",
       "</g>\n",
       "<!-- thread_0/copy_op_1 -->\n",
       "<g id=\"node2\" class=\"node\">\n",
       "<title>thread_0/copy_op_1</title>\n",
       "<ellipse fill=\"none\" stroke=\"black\" cx=\"83.19\" cy=\"-18\" rx=\"83.39\" ry=\"18\"/>\n",
       "<text text-anchor=\"middle\" x=\"83.19\" y=\"-14.3\" font-family=\"Times,serif\" font-size=\"14.00\">thread_0/copy_op_1</text>\n",
       "</g>\n",
       "<!-- root&#45;&gt;thread_0/copy_op_1 -->\n",
       "<g id=\"edge1\" class=\"edge\">\n",
       "<title>root&#45;&gt;thread_0/copy_op_1</title>\n",
       "<path fill=\"none\" stroke=\"black\" d=\"M83.19,-71.7C83.19,-64.41 83.19,-55.73 83.19,-47.54\"/>\n",
       "<polygon fill=\"black\" stroke=\"black\" points=\"86.69,-47.62 83.19,-37.62 79.69,-47.62 86.69,-47.62\"/>\n",
       "</g>\n",
       "</g>\n",
       "</svg>\n"
      ],
      "text/plain": [
       "<graphviz.graphs.Digraph at 0x112960550>"
      ]
     },
     "metadata": {},
     "output_type": "display_data"
    }
   ],
   "source": [
    "# for mac: brew install graphviz\n",
    "display(graph)"
   ]
  },
  {
   "cell_type": "code",
   "execution_count": 8,
   "metadata": {},
   "outputs": [],
   "source": [
    "graph = Viz.to_digraph(output[1][\"root\"])"
   ]
  },
  {
   "cell_type": "code",
   "execution_count": 9,
   "metadata": {},
   "outputs": [
    {
     "data": {
      "image/svg+xml": [
       "<?xml version=\"1.0\" encoding=\"UTF-8\" standalone=\"no\"?>\n",
       "<!DOCTYPE svg PUBLIC \"-//W3C//DTD SVG 1.1//EN\"\n",
       " \"http://www.w3.org/Graphics/SVG/1.1/DTD/svg11.dtd\">\n",
       "<!-- Generated by graphviz version 7.0.4 (20221203.1631)\n",
       " -->\n",
       "<!-- Pages: 1 -->\n",
       "<svg width=\"174pt\" height=\"116pt\"\n",
       " viewBox=\"0.00 0.00 174.39 116.00\" xmlns=\"http://www.w3.org/2000/svg\" xmlns:xlink=\"http://www.w3.org/1999/xlink\">\n",
       "<g id=\"graph0\" class=\"graph\" transform=\"scale(1 1) rotate(0) translate(4 112)\">\n",
       "<polygon fill=\"white\" stroke=\"none\" points=\"-4,4 -4,-112 170.39,-112 170.39,4 -4,4\"/>\n",
       "<!-- root -->\n",
       "<g id=\"node1\" class=\"node\">\n",
       "<title>root</title>\n",
       "<ellipse fill=\"none\" stroke=\"black\" cx=\"83.19\" cy=\"-90\" rx=\"27\" ry=\"18\"/>\n",
       "<text text-anchor=\"middle\" x=\"83.19\" y=\"-86.3\" font-family=\"Times,serif\" font-size=\"14.00\">root</text>\n",
       "</g>\n",
       "<!-- thread_0/copy_op_2 -->\n",
       "<g id=\"node2\" class=\"node\">\n",
       "<title>thread_0/copy_op_2</title>\n",
       "<ellipse fill=\"none\" stroke=\"black\" cx=\"83.19\" cy=\"-18\" rx=\"83.39\" ry=\"18\"/>\n",
       "<text text-anchor=\"middle\" x=\"83.19\" y=\"-14.3\" font-family=\"Times,serif\" font-size=\"14.00\">thread_0/copy_op_2</text>\n",
       "</g>\n",
       "<!-- root&#45;&gt;thread_0/copy_op_2 -->\n",
       "<g id=\"edge1\" class=\"edge\">\n",
       "<title>root&#45;&gt;thread_0/copy_op_2</title>\n",
       "<path fill=\"none\" stroke=\"black\" d=\"M83.19,-71.7C83.19,-64.41 83.19,-55.73 83.19,-47.54\"/>\n",
       "<polygon fill=\"black\" stroke=\"black\" points=\"86.69,-47.62 83.19,-37.62 79.69,-47.62 86.69,-47.62\"/>\n",
       "</g>\n",
       "</g>\n",
       "</svg>\n"
      ],
      "text/plain": [
       "<graphviz.graphs.Digraph at 0x1133bf450>"
      ]
     },
     "metadata": {},
     "output_type": "display_data"
    }
   ],
   "source": [
    "# for mac: brew install graphviz\n",
    "display(graph)"
   ]
  }
 ],
 "metadata": {
  "kernelspec": {
   "display_name": "uniflow",
   "language": "python",
   "name": "python3"
  },
  "language_info": {
   "codemirror_mode": {
    "name": "ipython",
    "version": 3
   },
   "file_extension": ".py",
   "mimetype": "text/x-python",
   "name": "python",
   "nbconvert_exporter": "python",
   "pygments_lexer": "ipython3",
   "version": "3.11.7"
  }
 },
 "nbformat": 4,
 "nbformat_minor": 2
}
